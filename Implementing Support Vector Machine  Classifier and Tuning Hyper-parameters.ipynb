{
  "nbformat": 4,
  "nbformat_minor": 0,
  "metadata": {
    "colab": {
      "name": "Lab 7.ipynb",
      "provenance": [],
      "collapsed_sections": [],
      "authorship_tag": "ABX9TyOtODQxlz9l/M4JcVSeVCBD",
      "include_colab_link": true
    },
    "kernelspec": {
      "name": "python3",
      "display_name": "Python 3"
    }
  },
  "cells": [
    {
      "cell_type": "markdown",
      "metadata": {
        "id": "view-in-github",
        "colab_type": "text"
      },
      "source": [
        "<a href=\"https://colab.research.google.com/github/abdelkadergelany/Machine-Learning/blob/master/Implementing%20Support%20Vector%20Machine%20%20Classifier%20and%20Tuning%20Hyper-parameters.ipynb\" target=\"_parent\"><img src=\"https://colab.research.google.com/assets/colab-badge.svg\" alt=\"Open In Colab\"/></a>"
      ]
    },
    {
      "cell_type": "code",
      "metadata": {
        "id": "jJdIQAdy-RQn",
        "colab_type": "code",
        "colab": {}
      },
      "source": [
        "import matplotlib.pyplot as plt\n",
        "from mpl_toolkits.mplot3d import Axes3D\n",
        "from sklearn import datasets\n",
        "from sklearn.decomposition import PCA\n",
        "from sklearn.preprocessing import StandardScaler\n",
        "import pandas as pd"
      ],
      "execution_count": null,
      "outputs": []
    },
    {
      "cell_type": "markdown",
      "metadata": {
        "id": "-ClTxo5ZX8Y9",
        "colab_type": "text"
      },
      "source": [
        "**TASK 1**"
      ]
    },
    {
      "cell_type": "code",
      "metadata": {
        "id": "z-KrRE_pYB00",
        "colab_type": "code",
        "colab": {}
      },
      "source": [
        "file = r'/content/Iris1.xlsx'\n",
        "iris = pd.read_excel(file)\n",
        "X = iris.iloc[:, :4]\n",
        "y = iris.Species"
      ],
      "execution_count": null,
      "outputs": []
    },
    {
      "cell_type": "markdown",
      "metadata": {
        "id": "Bd5uQEqa-z1h",
        "colab_type": "text"
      },
      "source": [
        "**Standardization**"
      ]
    },
    {
      "cell_type": "code",
      "metadata": {
        "id": "-MT_VBg5-g5y",
        "colab_type": "code",
        "colab": {}
      },
      "source": [
        "scaler = StandardScaler()\n",
        "X_scaled = scaler.fit_transform(X)\n"
      ],
      "execution_count": null,
      "outputs": []
    },
    {
      "cell_type": "code",
      "metadata": {
        "id": "DGMzX83i-_8p",
        "colab_type": "code",
        "colab": {}
      },
      "source": [
        "from sklearn.model_selection import train_test_split\n",
        "\n",
        "X_train, X_test, y_train, y_test = train_test_split(\n",
        "                       X_scaled, y, test_size=0.3, random_state=42)"
      ],
      "execution_count": null,
      "outputs": []
    },
    {
      "cell_type": "markdown",
      "metadata": {
        "id": "LCqoFRyuFf_c",
        "colab_type": "text"
      },
      "source": [
        "**TASK 2**"
      ]
    },
    {
      "cell_type": "markdown",
      "metadata": {
        "id": "_AlaV-b8BdMP",
        "colab_type": "text"
      },
      "source": [
        "**Linear SVM**"
      ]
    },
    {
      "cell_type": "code",
      "metadata": {
        "id": "Zqeolt_7HLxc",
        "colab_type": "code",
        "colab": {}
      },
      "source": [
        "from sklearn import svm \n",
        "clf = svm.SVC(kernel='linear',degree=3, C=100).fit(X_train,y_train)"
      ],
      "execution_count": null,
      "outputs": []
    },
    {
      "cell_type": "markdown",
      "metadata": {
        "id": "ZRlmWPCHH7n9",
        "colab_type": "text"
      },
      "source": [
        "**PRINT LINEAR ACCURACY**"
      ]
    },
    {
      "cell_type": "code",
      "metadata": {
        "id": "YhZSBPMTH_lU",
        "colab_type": "code",
        "colab": {
          "base_uri": "https://localhost:8080/",
          "height": 54
        },
        "outputId": "0023507a-c84d-4cb1-ac87-b9e2ded74886"
      },
      "source": [
        "print('Accuracy of linear SVC on training set: {:.2f}'.format(clf.score(X_train, y_train)))\n",
        "\n",
        "print('Accuracy of linear SVC on test set: {:.2f}'.format(clf.score(X_test, y_test)))"
      ],
      "execution_count": null,
      "outputs": [
        {
          "output_type": "stream",
          "text": [
            "Accuracy of linear SVC on training set: 0.97\n",
            "Accuracy of linear SVC on test set: 1.00\n"
          ],
          "name": "stdout"
        }
      ]
    },
    {
      "cell_type": "markdown",
      "metadata": {
        "id": "1SOz3ZeKBsgP",
        "colab_type": "text"
      },
      "source": [
        "**display its accuracy report**"
      ]
    },
    {
      "cell_type": "code",
      "metadata": {
        "id": "SUzjHwS5_YsI",
        "colab_type": "code",
        "colab": {
          "base_uri": "https://localhost:8080/",
          "height": 254
        },
        "outputId": "c54eb675-106f-48c2-f535-ca0f1fec43f4"
      },
      "source": [
        "from sklearn.metrics import classification_report\n",
        "y_true, y_pred = y_test, clf.predict(X_test)\n",
        "print( '\\nClassification report\\n' )\n",
        "print(classification_report(y_true, y_pred))"
      ],
      "execution_count": null,
      "outputs": [
        {
          "output_type": "stream",
          "text": [
            "\n",
            "Classification report\n",
            "\n",
            "                 precision    recall  f1-score   support\n",
            "\n",
            "    Iris-setosa       1.00      1.00      1.00        19\n",
            "Iris-versicolor       1.00      1.00      1.00        13\n",
            " Iris-virginica       1.00      1.00      1.00        13\n",
            "\n",
            "       accuracy                           1.00        45\n",
            "      macro avg       1.00      1.00      1.00        45\n",
            "   weighted avg       1.00      1.00      1.00        45\n",
            "\n"
          ],
          "name": "stdout"
        }
      ]
    },
    {
      "cell_type": "markdown",
      "metadata": {
        "id": "-vnu69dCB1Vm",
        "colab_type": "text"
      },
      "source": [
        "**Visualize the confusion matrix**"
      ]
    },
    {
      "cell_type": "code",
      "metadata": {
        "id": "Al4z6qVLA12A",
        "colab_type": "code",
        "colab": {
          "base_uri": "https://localhost:8080/",
          "height": 337
        },
        "outputId": "43559c78-b3b2-472b-be01-63bfaab021ff"
      },
      "source": [
        "from sklearn.metrics import confusion_matrix\n",
        "#Get the confusion matrix\n",
        "cf_matrix = confusion_matrix(y_test, y_pred)\n",
        "print(cf_matrix)\n",
        "import seaborn as sns\n",
        "sns.heatmap(cf_matrix, annot=True)"
      ],
      "execution_count": null,
      "outputs": [
        {
          "output_type": "stream",
          "text": [
            "[[19  0  0]\n",
            " [ 0 13  0]\n",
            " [ 0  0 13]]\n"
          ],
          "name": "stdout"
        },
        {
          "output_type": "execute_result",
          "data": {
            "text/plain": [
              "<matplotlib.axes._subplots.AxesSubplot at 0x7fa4057f0320>"
            ]
          },
          "metadata": {
            "tags": []
          },
          "execution_count": 60
        },
        {
          "output_type": "display_data",
          "data": {
            "image/png": "[encoded data removed]",
            "text/plain": [
              "<Figure size 432x288 with 2 Axes>"
            ]
          },
          "metadata": {
            "tags": [],
            "needs_background": "light"
          }
        }
      ]
    },
    {
      "cell_type": "markdown",
      "metadata": {
        "id": "A1lYqwIKIhBX",
        "colab_type": "text"
      },
      "source": [
        "**TASK 3 POLYNOMIAL KERNEL**"
      ]
    },
    {
      "cell_type": "code",
      "metadata": {
        "id": "eyrFwHvdIj7c",
        "colab_type": "code",
        "colab": {}
      },
      "source": [
        "poly_svc = svm.SVC(kernel='poly', degree=3, C=100).fit(X_train,y_train)"
      ],
      "execution_count": null,
      "outputs": []
    },
    {
      "cell_type": "markdown",
      "metadata": {
        "id": "5S64F0f-JRGL",
        "colab_type": "text"
      },
      "source": [
        "**DISPLAY ACCURACY**"
      ]
    },
    {
      "cell_type": "code",
      "metadata": {
        "id": "tuBzHHtfJPpe",
        "colab_type": "code",
        "colab": {
          "base_uri": "https://localhost:8080/",
          "height": 54
        },
        "outputId": "e145d408-663b-4255-e5c0-5c7704cda852"
      },
      "source": [
        "print('Accuracy of POLYNOMIAL on training set: {:.2f}'.format(poly_svc.score(X_train, y_train)))\n",
        "print('Accuracy of POLYNOMIAL on test set: {:.2f}'.format(poly_svc.score(X_test, y_test)))"
      ],
      "execution_count": null,
      "outputs": [
        {
          "output_type": "stream",
          "text": [
            "Accuracy of POLYNOMIAL on training set: 0.98\n",
            "Accuracy of POLYNOMIAL on test set: 1.00\n"
          ],
          "name": "stdout"
        }
      ]
    },
    {
      "cell_type": "markdown",
      "metadata": {
        "id": "YqYxf1FvJrqy",
        "colab_type": "text"
      },
      "source": [
        "**classification_report**"
      ]
    },
    {
      "cell_type": "code",
      "metadata": {
        "id": "8IcfArk0Jn_N",
        "colab_type": "code",
        "colab": {
          "base_uri": "https://localhost:8080/",
          "height": 254
        },
        "outputId": "37ac1282-3ded-41a9-b847-a67eef12bd06"
      },
      "source": [
        "from sklearn.metrics import classification_report\n",
        "y_true, y_pred = y_test, poly_svc.predict(X_test)\n",
        "print( '\\nClassification report\\n' )\n",
        "print(classification_report(y_true, y_pred))"
      ],
      "execution_count": null,
      "outputs": [
        {
          "output_type": "stream",
          "text": [
            "\n",
            "Classification report\n",
            "\n",
            "                 precision    recall  f1-score   support\n",
            "\n",
            "    Iris-setosa       1.00      1.00      1.00        19\n",
            "Iris-versicolor       1.00      1.00      1.00        13\n",
            " Iris-virginica       1.00      1.00      1.00        13\n",
            "\n",
            "       accuracy                           1.00        45\n",
            "      macro avg       1.00      1.00      1.00        45\n",
            "   weighted avg       1.00      1.00      1.00        45\n",
            "\n"
          ],
          "name": "stdout"
        }
      ]
    },
    {
      "cell_type": "markdown",
      "metadata": {
        "id": "ktvUSYwfLvR6",
        "colab_type": "text"
      },
      "source": [
        "**Visualize the confusion matrix**"
      ]
    },
    {
      "cell_type": "code",
      "metadata": {
        "id": "UyjJ0W3wLqre",
        "colab_type": "code",
        "colab": {
          "base_uri": "https://localhost:8080/",
          "height": 337
        },
        "outputId": "83d3b135-19c3-42d6-cc30-002a9447b91d"
      },
      "source": [
        "cf_matrix = confusion_matrix(y_test, y_pred)\n",
        "print(cf_matrix)\n",
        "import seaborn as sns\n",
        "sns.heatmap(cf_matrix, annot=True)"
      ],
      "execution_count": null,
      "outputs": [
        {
          "output_type": "stream",
          "text": [
            "[[19  0  0]\n",
            " [ 0 13  0]\n",
            " [ 0  0 13]]\n"
          ],
          "name": "stdout"
        },
        {
          "output_type": "execute_result",
          "data": {
            "text/plain": [
              "<matplotlib.axes._subplots.AxesSubplot at 0x7fa40577da90>"
            ]
          },
          "metadata": {
            "tags": []
          },
          "execution_count": 64
        },
        {
          "output_type": "display_data",
          "data": {
            "image/png": "[encoded data removed]",
            "text/plain": [
              "<Figure size 432x288 with 2 Axes>"
            ]
          },
          "metadata": {
            "tags": [],
            "needs_background": "light"
          }
        }
      ]
    },
    {
      "cell_type": "markdown",
      "metadata": {
        "id": "it1oTl1VEhe-",
        "colab_type": "text"
      },
      "source": [
        "**TASK 4**"
      ]
    },
    {
      "cell_type": "markdown",
      "metadata": {
        "id": "Tzb7S-4HbZWf",
        "colab_type": "text"
      },
      "source": [
        "**TRAIN WITH RBF**"
      ]
    },
    {
      "cell_type": "code",
      "metadata": {
        "id": "9GnVhbPZC_yW",
        "colab_type": "code",
        "colab": {}
      },
      "source": [
        " \n",
        "rbf = svm.SVC(kernel='rbf', gamma=0.7, C=100).fit(X_train,y_train)"
      ],
      "execution_count": null,
      "outputs": []
    },
    {
      "cell_type": "markdown",
      "metadata": {
        "id": "sbJd3IPxGa-X",
        "colab_type": "text"
      },
      "source": [
        "**DISPLAY RBF ACCURACY**"
      ]
    },
    {
      "cell_type": "code",
      "metadata": {
        "id": "hwXRXienGgAD",
        "colab_type": "code",
        "colab": {
          "base_uri": "https://localhost:8080/",
          "height": 54
        },
        "outputId": "9da33637-6580-4878-8301-83930b88d9b8"
      },
      "source": [
        "print('Accuracy of RBF on training set: {:.2f}'.format(rbf.score(X_train, y_train)))\n",
        "print('Accuracy of RBF on test set: {:.2f}'.format(rbf.score(X_test, y_test)))"
      ],
      "execution_count": null,
      "outputs": [
        {
          "output_type": "stream",
          "text": [
            "Accuracy of RBF on training set: 1.00\n",
            "Accuracy of RBF on test set: 0.96\n"
          ],
          "name": "stdout"
        }
      ]
    },
    {
      "cell_type": "markdown",
      "metadata": {
        "id": "2eVxa3GKGt-G",
        "colab_type": "text"
      },
      "source": [
        "**classification_report**"
      ]
    },
    {
      "cell_type": "code",
      "metadata": {
        "id": "yZJfYRxFFNds",
        "colab_type": "code",
        "colab": {
          "base_uri": "https://localhost:8080/",
          "height": 254
        },
        "outputId": "ea17ccd6-a533-4ddb-e812-d2d2556af9d1"
      },
      "source": [
        "from sklearn.metrics import classification_report\n",
        "y_true, y_pred = y_test, rbf.predict(X_test)\n",
        "print( '\\nClassification report\\n' )\n",
        "print(classification_report(y_true, y_pred))"
      ],
      "execution_count": null,
      "outputs": [
        {
          "output_type": "stream",
          "text": [
            "\n",
            "Classification report\n",
            "\n",
            "                 precision    recall  f1-score   support\n",
            "\n",
            "    Iris-setosa       1.00      1.00      1.00        19\n",
            "Iris-versicolor       0.92      0.92      0.92        13\n",
            " Iris-virginica       0.92      0.92      0.92        13\n",
            "\n",
            "       accuracy                           0.96        45\n",
            "      macro avg       0.95      0.95      0.95        45\n",
            "   weighted avg       0.96      0.96      0.96        45\n",
            "\n"
          ],
          "name": "stdout"
        }
      ]
    },
    {
      "cell_type": "markdown",
      "metadata": {
        "id": "X61hrNbGG4XN",
        "colab_type": "text"
      },
      "source": [
        "**Visualize the confusion matrix**"
      ]
    },
    {
      "cell_type": "code",
      "metadata": {
        "id": "vKGxUXPCHAnd",
        "colab_type": "code",
        "colab": {
          "base_uri": "https://localhost:8080/",
          "height": 337
        },
        "outputId": "9a703ef4-7546-4c0f-dfe5-c1a434859dd5"
      },
      "source": [
        " labels = ['Iris-setosa', 'Iris-versicolor','Iris-virginica']\n",
        "\n",
        "cf_matrix = confusion_matrix(y_test, y_pred,labels = labels)\n",
        "print(cf_matrix)\n",
        "\n",
        "import seaborn as sns\n",
        "sns.heatmap(cf_matrix, annot=True)"
      ],
      "execution_count": null,
      "outputs": [
        {
          "output_type": "stream",
          "text": [
            "[[19  0  0]\n",
            " [ 0 12  1]\n",
            " [ 0  1 12]]\n"
          ],
          "name": "stdout"
        },
        {
          "output_type": "execute_result",
          "data": {
            "text/plain": [
              "<matplotlib.axes._subplots.AxesSubplot at 0x7fa4038726a0>"
            ]
          },
          "metadata": {
            "tags": []
          },
          "execution_count": 68
        },
        {
          "output_type": "display_data",
          "data": {
            "image/png": "[encoded data removed]",
            "text/plain": [
              "<Figure size 432x288 with 2 Axes>"
            ]
          },
          "metadata": {
            "tags": [],
            "needs_background": "light"
          }
        }
      ]
    },
    {
      "cell_type": "markdown",
      "metadata": {
        "id": "eg7ffScFNSQp",
        "colab_type": "text"
      },
      "source": [
        "**TASK 5**"
      ]
    },
    {
      "cell_type": "code",
      "metadata": {
        "id": "rQSvnWutaT2b",
        "colab_type": "code",
        "colab": {
          "base_uri": "https://localhost:8080/",
          "height": 1000
        },
        "outputId": "bd7042b6-a105-4711-d3b2-2d573442492b"
      },
      "source": [
        "from sklearn.model_selection import GridSearchCV \n",
        "\n",
        "# defining parameter range \n",
        "# param_grid = {'C': [0.1, 1, 10, 100, 1000], \n",
        "# \t\t\t'gamma': [1, 0.1, 0.01, 0.001, 0.0001], \n",
        "# \t\t\t'kernel': ['rbf']} \n",
        "\n",
        "param_grid = [{'kernel': ['rbf'], 'gamma': [1e-3, 1e-4],\n",
        "                     'C': [1, 10, 100, 1000]},\n",
        "                    {'kernel': ['linear'], 'C': [1, 10, 100, 1000]},{'kernel': ['poly'], 'C': [1, 10, 100, 1000]}]\n",
        "\n",
        "\n",
        "grid = GridSearchCV(SVC(), param_grid, refit = True, verbose = 3) \n",
        "\n",
        "# fitting the model for grid search \n",
        "grid.fit(X_train, y_train) \n"
      ],
      "execution_count": null,
      "outputs": [
        {
          "output_type": "stream",
          "text": [
            "Fitting 5 folds for each of 16 candidates, totalling 80 fits\n",
            "[CV] C=1, gamma=0.001, kernel=rbf ....................................\n",
            "[CV] ........ C=1, gamma=0.001, kernel=rbf, score=0.333, total=   0.0s\n",
            "[CV] C=1, gamma=0.001, kernel=rbf ....................................\n",
            "[CV] ........ C=1, gamma=0.001, kernel=rbf, score=0.333, total=   0.0s\n",
            "[CV] C=1, gamma=0.001, kernel=rbf ....................................\n",
            "[CV] ........ C=1, gamma=0.001, kernel=rbf, score=0.333, total=   0.0s\n",
            "[CV] C=1, gamma=0.001, kernel=rbf ....................................\n",
            "[CV] ........ C=1, gamma=0.001, kernel=rbf, score=0.333, total=   0.0s\n",
            "[CV] C=1, gamma=0.001, kernel=rbf ....................................\n",
            "[CV] ........ C=1, gamma=0.001, kernel=rbf, score=0.476, total=   0.0s\n",
            "[CV] C=1, gamma=0.0001, kernel=rbf ...................................\n",
            "[CV] ....... C=1, gamma=0.0001, kernel=rbf, score=0.333, total=   0.0s\n",
            "[CV] C=1, gamma=0.0001, kernel=rbf ...................................\n",
            "[CV] ....... C=1, gamma=0.0001, kernel=rbf, score=0.333, total=   0.0s\n",
            "[CV] C=1, gamma=0.0001, kernel=rbf ...................................\n",
            "[CV] ....... C=1, gamma=0.0001, kernel=rbf, score=0.333, total=   0.0s\n",
            "[CV] C=1, gamma=0.0001, kernel=rbf ...................................\n",
            "[CV] ....... C=1, gamma=0.0001, kernel=rbf, score=0.333, total=   0.0s\n",
            "[CV] C=1, gamma=0.0001, kernel=rbf ...................................\n",
            "[CV] ....... C=1, gamma=0.0001, kernel=rbf, score=0.476, total=   0.0s\n",
            "[CV] C=10, gamma=0.001, kernel=rbf ...................................\n",
            "[CV] ....... C=10, gamma=0.001, kernel=rbf, score=0.952, total=   0.0s\n",
            "[CV] C=10, gamma=0.001, kernel=rbf ...................................\n",
            "[CV] ....... C=10, gamma=0.001, kernel=rbf, score=0.810, total=   0.0s\n",
            "[CV] C=10, gamma=0.001, kernel=rbf ...................................\n",
            "[CV] ....... C=10, gamma=0.001, kernel=rbf, score=0.810, total=   0.0s\n",
            "[CV] C=10, gamma=0.001, kernel=rbf ...................................\n",
            "[CV] ....... C=10, gamma=0.001, kernel=rbf, score=1.000, total=   0.0s\n",
            "[CV] C=10, gamma=0.001, kernel=rbf ...................................\n",
            "[CV] ....... C=10, gamma=0.001, kernel=rbf, score=0.857, total=   0.0s\n",
            "[CV] C=10, gamma=0.0001, kernel=rbf ..................................\n",
            "[CV] ...... C=10, gamma=0.0001, kernel=rbf, score=0.333, total=   0.0s\n",
            "[CV] C=10, gamma=0.0001, kernel=rbf ..................................\n",
            "[CV] ...... C=10, gamma=0.0001, kernel=rbf, score=0.333, total=   0.0s\n",
            "[CV] C=10, gamma=0.0001, kernel=rbf ..................................\n",
            "[CV] ...... C=10, gamma=0.0001, kernel=rbf, score=0.333, total=   0.0s\n",
            "[CV] C=10, gamma=0.0001, kernel=rbf ..................................\n",
            "[CV] ...... C=10, gamma=0.0001, kernel=rbf, score=0.333, total=   0.0s\n",
            "[CV] C=10, gamma=0.0001, kernel=rbf ..................................\n",
            "[CV] ...... C=10, gamma=0.0001, kernel=rbf, score=0.476, total=   0.0s\n",
            "[CV] C=100, gamma=0.001, kernel=rbf ..................................\n",
            "[CV] ...... C=100, gamma=0.001, kernel=rbf, score=0.952, total=   0.0s\n",
            "[CV] C=100, gamma=0.001, kernel=rbf ..................................\n",
            "[CV] ...... C=100, gamma=0.001, kernel=rbf, score=0.905, total=   0.0s\n",
            "[CV] C=100, gamma=0.001, kernel=rbf ..................................\n",
            "[CV] ...... C=100, gamma=0.001, kernel=rbf, score=0.952, total=   0.0s\n",
            "[CV] C=100, gamma=0.001, kernel=rbf ..................................\n",
            "[CV] ...... C=100, gamma=0.001, kernel=rbf, score=1.000, total=   0.0s\n",
            "[CV] C=100, gamma=0.001, kernel=rbf ..................................\n",
            "[CV] ...... C=100, gamma=0.001, kernel=rbf, score=0.952, total=   0.0s\n",
            "[CV] C=100, gamma=0.0001, kernel=rbf .................................\n",
            "[CV] ..... C=100, gamma=0.0001, kernel=rbf, score=0.952, total=   0.0s\n",
            "[CV] C=100, gamma=0.0001, kernel=rbf .................................\n",
            "[CV] ..... C=100, gamma=0.0001, kernel=rbf, score=0.810, total=   0.0s\n",
            "[CV] C=100, gamma=0.0001, kernel=rbf .................................\n",
            "[CV] ..... C=100, gamma=0.0001, kernel=rbf, score=0.810, total=   0.0s\n",
            "[CV] C=100, gamma=0.0001, kernel=rbf .................................\n",
            "[CV] ..... C=100, gamma=0.0001, kernel=rbf, score=1.000, total=   0.0s\n",
            "[CV] C=100, gamma=0.0001, kernel=rbf .................................\n",
            "[CV] ..... C=100, gamma=0.0001, kernel=rbf, score=0.857, total=   0.0s\n",
            "[CV] C=1000, gamma=0.001, kernel=rbf .................................\n",
            "[CV] ..... C=1000, gamma=0.001, kernel=rbf, score=0.952, total=   0.0s\n",
            "[CV] C=1000, gamma=0.001, kernel=rbf .................................\n",
            "[CV] ..... C=1000, gamma=0.001, kernel=rbf, score=0.905, total=   0.0s\n",
            "[CV] C=1000, gamma=0.001, kernel=rbf .................................\n",
            "[CV] ..... C=1000, gamma=0.001, kernel=rbf, score=0.905, total=   0.0s\n",
            "[CV] C=1000, gamma=0.001, kernel=rbf .................................\n",
            "[CV] ..... C=1000, gamma=0.001, kernel=rbf, score=1.000, total=   0.0s\n",
            "[CV] C=1000, gamma=0.001, kernel=rbf .................................\n",
            "[CV] ..... C=1000, gamma=0.001, kernel=rbf, score=1.000, total=   0.0s\n",
            "[CV] C=1000, gamma=0.0001, kernel=rbf ................................\n",
            "[CV] .... C=1000, gamma=0.0001, kernel=rbf, score=0.952, total=   0.0s\n",
            "[CV] C=1000, gamma=0.0001, kernel=rbf ................................\n",
            "[CV] .... C=1000, gamma=0.0001, kernel=rbf, score=0.905, total=   0.0s\n",
            "[CV] C=1000, gamma=0.0001, kernel=rbf ................................\n",
            "[CV] .... C=1000, gamma=0.0001, kernel=rbf, score=0.952, total=   0.0s\n",
            "[CV] C=1000, gamma=0.0001, kernel=rbf ................................\n",
            "[CV] .... C=1000, gamma=0.0001, kernel=rbf, score=1.000, total=   0.0s\n",
            "[CV] C=1000, gamma=0.0001, kernel=rbf ................................\n",
            "[CV] .... C=1000, gamma=0.0001, kernel=rbf, score=0.952, total=   0.0s\n",
            "[CV] C=1, kernel=linear ..............................................\n",
            "[CV] .................. C=1, kernel=linear, score=0.952, total=   0.0s\n",
            "[CV] C=1, kernel=linear ..............................................\n",
            "[CV] .................. C=1, kernel=linear, score=0.905, total=   0.0s\n",
            "[CV] C=1, kernel=linear ..............................................\n",
            "[CV] .................. C=1, kernel=linear, score=0.905, total=   0.0s\n",
            "[CV] C=1, kernel=linear ..............................................\n",
            "[CV] .................. C=1, kernel=linear, score=1.000, total=   0.0s\n",
            "[CV] C=1, kernel=linear ..............................................\n",
            "[CV] .................. C=1, kernel=linear, score=0.952, total=   0.0s\n",
            "[CV] C=10, kernel=linear .............................................\n",
            "[CV] ................. C=10, kernel=linear, score=0.952, total=   0.0s\n",
            "[CV] C=10, kernel=linear .............................................\n",
            "[CV] ................. C=10, kernel=linear, score=0.905, total=   0.0s\n",
            "[CV] C=10, kernel=linear .............................................\n",
            "[CV] ................. C=10, kernel=linear, score=0.905, total=   0.0s\n",
            "[CV] C=10, kernel=linear .............................................\n",
            "[CV] ................. C=10, kernel=linear, score=1.000, total=   0.0s\n",
            "[CV] C=10, kernel=linear .............................................\n",
            "[CV] ................. C=10, kernel=linear, score=1.000, total=   0.0s\n",
            "[CV] C=100, kernel=linear ............................................\n",
            "[CV] ................ C=100, kernel=linear, score=0.952, total=   0.0s\n",
            "[CV] C=100, kernel=linear ............................................\n",
            "[CV] ................ C=100, kernel=linear, score=0.905, total=   0.0s\n",
            "[CV] C=100, kernel=linear ............................................\n",
            "[CV] ................ C=100, kernel=linear, score=0.905, total=   0.0s\n",
            "[CV] C=100, kernel=linear ............................................\n",
            "[CV] ................ C=100, kernel=linear, score=1.000, total=   0.0s\n",
            "[CV] C=100, kernel=linear ............................................\n",
            "[CV] ................ C=100, kernel=linear, score=1.000, total=   0.0s\n",
            "[CV] C=1000, kernel=linear ...........................................\n",
            "[CV] ............... C=1000, kernel=linear, score=0.952, total=   0.0s\n",
            "[CV] C=1000, kernel=linear ...........................................\n",
            "[CV] ............... C=1000, kernel=linear, score=0.905, total=   0.0s\n",
            "[CV] C=1000, kernel=linear ...........................................\n",
            "[CV] ............... C=1000, kernel=linear, score=0.905, total=   0.0s\n",
            "[CV] C=1000, kernel=linear ...........................................\n",
            "[CV] ............... C=1000, kernel=linear, score=1.000, total=   0.0s\n",
            "[CV] C=1000, kernel=linear ...........................................\n",
            "[CV] ............... C=1000, kernel=linear, score=1.000, total=   0.0s\n",
            "[CV] C=1, kernel=poly ................................................\n",
            "[CV] .................... C=1, kernel=poly, score=0.905, total=   0.0s\n",
            "[CV] C=1, kernel=poly ................................................\n",
            "[CV] .................... C=1, kernel=poly, score=0.905, total=   0.0s\n",
            "[CV] C=1, kernel=poly ................................................\n",
            "[CV] .................... C=1, kernel=poly, score=0.857, total=   0.0s\n",
            "[CV] C=1, kernel=poly ................................................\n",
            "[CV] .................... C=1, kernel=poly, score=1.000, total=   0.0s\n",
            "[CV] C=1, kernel=poly ................................................\n",
            "[CV] .................... C=1, kernel=poly, score=0.857, total=   0.0s\n",
            "[CV] C=10, kernel=poly ...............................................\n",
            "[CV] ................... C=10, kernel=poly, score=0.952, total=   0.0s\n",
            "[CV] C=10, kernel=poly ...............................................\n",
            "[CV] ................... C=10, kernel=poly, score=0.905, total=   0.0s\n",
            "[CV] C=10, kernel=poly ...............................................\n",
            "[CV] ................... C=10, kernel=poly, score=0.905, total=   0.0s\n",
            "[CV] C=10, kernel=poly ...............................................\n",
            "[CV] ................... C=10, kernel=poly, score=1.000, total=   0.0s\n",
            "[CV] C=10, kernel=poly ...............................................\n",
            "[CV] ................... C=10, kernel=poly, score=0.905, total=   0.0s\n",
            "[CV] C=100, kernel=poly ..............................................\n",
            "[CV] .................. C=100, kernel=poly, score=0.905, total=   0.0s\n",
            "[CV] C=100, kernel=poly ..............................................\n",
            "[CV] .................. C=100, kernel=poly, score=0.905, total=   0.0s\n",
            "[CV] C=100, kernel=poly ..............................................\n",
            "[CV] .................. C=100, kernel=poly, score=0.905, total=   0.0s\n",
            "[CV] C=100, kernel=poly ..............................................\n",
            "[CV] .................. C=100, kernel=poly, score=0.952, total=   0.0s\n",
            "[CV] C=100, kernel=poly ..............................................\n",
            "[CV] .................. C=100, kernel=poly, score=0.952, total=   0.0s\n",
            "[CV] C=1000, kernel=poly .............................................\n",
            "[CV] ................. C=1000, kernel=poly, score=0.905, total=   0.0s\n",
            "[CV] C=1000, kernel=poly .............................................\n",
            "[CV] ................. C=1000, kernel=poly, score=0.857, total=   0.0s\n",
            "[CV] C=1000, kernel=poly .............................................\n"
          ],
          "name": "stdout"
        },
        {
          "output_type": "stream",
          "text": [
            "[Parallel(n_jobs=1)]: Using backend SequentialBackend with 1 concurrent workers.\n",
            "[Parallel(n_jobs=1)]: Done   1 out of   1 | elapsed:    0.0s remaining:    0.0s\n",
            "[Parallel(n_jobs=1)]: Done   2 out of   2 | elapsed:    0.0s remaining:    0.0s\n"
          ],
          "name": "stderr"
        },
        {
          "output_type": "stream",
          "text": [
            "[CV] ................. C=1000, kernel=poly, score=0.857, total=   0.0s\n",
            "[CV] C=1000, kernel=poly .............................................\n",
            "[CV] ................. C=1000, kernel=poly, score=1.000, total=   0.0s\n",
            "[CV] C=1000, kernel=poly .............................................\n",
            "[CV] ................. C=1000, kernel=poly, score=0.952, total=   0.0s\n"
          ],
          "name": "stdout"
        },
        {
          "output_type": "stream",
          "text": [
            "[Parallel(n_jobs=1)]: Done  80 out of  80 | elapsed:    0.2s finished\n"
          ],
          "name": "stderr"
        },
        {
          "output_type": "execute_result",
          "data": {
            "text/plain": [
              "GridSearchCV(cv=None, error_score=nan,\n",
              "             estimator=SVC(C=1.0, break_ties=False, cache_size=200,\n",
              "                           class_weight=None, coef0=0.0,\n",
              "                           decision_function_shape='ovr', degree=3,\n",
              "                           gamma='scale', kernel='rbf', max_iter=-1,\n",
              "                           probability=False, random_state=None, shrinking=True,\n",
              "                           tol=0.001, verbose=False),\n",
              "             iid='deprecated', n_jobs=None,\n",
              "             param_grid=[{'C': [1, 10, 100, 1000], 'gamma': [0.001, 0.0001],\n",
              "                          'kernel': ['rbf']},\n",
              "                         {'C': [1, 10, 100, 1000], 'kernel': ['linear']},\n",
              "                         {'C': [1, 10, 100, 1000], 'kernel': ['poly']}],\n",
              "             pre_dispatch='2*n_jobs', refit=True, return_train_score=False,\n",
              "             scoring=None, verbose=3)"
            ]
          },
          "metadata": {
            "tags": []
          },
          "execution_count": 69
        }
      ]
    },
    {
      "cell_type": "code",
      "metadata": {
        "id": "bhPH8zyfjSgL",
        "colab_type": "code",
        "colab": {
          "base_uri": "https://localhost:8080/",
          "height": 108
        },
        "outputId": "8312eaa9-e939-4e2c-e15e-beeea6947f5c"
      },
      "source": [
        "# print best parameter after tuning \n",
        "print(grid.best_params_) \n",
        "\n",
        "# print how our model looks after hyper-parameter tuning \n",
        "print(grid.best_estimator_) \n"
      ],
      "execution_count": null,
      "outputs": [
        {
          "output_type": "stream",
          "text": [
            "{'C': 100, 'gamma': 0.001, 'kernel': 'rbf'}\n",
            "SVC(C=100, break_ties=False, cache_size=200, class_weight=None, coef0=0.0,\n",
            "    decision_function_shape='ovr', degree=3, gamma=0.001, kernel='rbf',\n",
            "    max_iter=-1, probability=False, random_state=None, shrinking=True,\n",
            "    tol=0.001, verbose=False)\n"
          ],
          "name": "stdout"
        }
      ]
    }
  ]
}